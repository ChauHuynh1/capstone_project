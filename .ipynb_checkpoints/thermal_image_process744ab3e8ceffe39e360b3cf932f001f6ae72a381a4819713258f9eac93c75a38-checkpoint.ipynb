{
 "cells": [
  {
   "cell_type": "markdown",
   "metadata": {},
   "source": [
    "**Import all libraries here!**"
   ]
  },
  {
   "cell_type": "code",
   "execution_count": 1,
   "metadata": {},
   "outputs": [],
   "source": [
    "import cv2 as cv\n",
    "import numpy as np"
   ]
  },
  {
   "cell_type": "code",
   "execution_count": 2,
   "metadata": {},
   "outputs": [
    {
     "name": "stdout",
     "output_type": "stream",
     "text": [
      "Requirement already satisfied: opencv-python in /Users/chaunguyen/miniconda3/lib/python3.10/site-packages (4.7.0.72)\n",
      "Requirement already satisfied: numpy>=1.21.2 in /Users/chaunguyen/miniconda3/lib/python3.10/site-packages (from opencv-python) (1.22.0)\n"
     ]
    }
   ],
   "source": [
    "!pip3 install opencv-python"
   ]
  },
  {
   "cell_type": "code",
   "execution_count": null,
   "metadata": {},
   "outputs": [],
   "source": [
    "img_name = \"data/Thermal/snap_1_ (1).jpg\"\n",
    "img = cv.imread(img_name, cv.IMREAD_COLOR)\n",
    "cv.imshow(\"Original thermal image\", img)\n",
    "cv.waitKey(0) # waits until a key is pressed\n",
    "cv.destroyAllWindows() # destroys the window showing image"
   ]
  },
  {
   "cell_type": "code",
   "execution_count": null,
   "metadata": {},
   "outputs": [],
   "source": [
    "# dimension of the image\n",
    "img.shape"
   ]
  },
  {
   "cell_type": "code",
   "execution_count": null,
   "metadata": {},
   "outputs": [],
   "source": [
    "# convert the colored thermal to greyscale\n",
    "img_grey = cv.cvtColor(img, cv.COLOR_RGB2GRAY)\n",
    "# cv.imshow(\"Grey scale image\", img_grey)\n",
    "# cv.waitKey(0) # waits until a key is pressed\n",
    "# cv.destroyAllWindows() # destroys the window showing image"
   ]
  },
  {
   "cell_type": "code",
   "execution_count": null,
   "metadata": {},
   "outputs": [],
   "source": [
    "# median/ gaussian filtering\n",
    "filtered_img = cv.medianBlur(img_grey, 3)\n",
    "cv.imshow(\"Filtered image\", filtered_img)\n",
    "cv.waitKey(0) # waits until a key is pressed\n",
    "cv.destroyAllWindows() # destroys the window showing image"
   ]
  },
  {
   "cell_type": "code",
   "execution_count": null,
   "metadata": {},
   "outputs": [],
   "source": [
    "# convert filtered greyscale image to back to RGB\n",
    "rgb = cv.cvtColor(filtered_img, cv.COLOR_GRAY2RGB)\n",
    "cv.imshow(\"Colored image\", rgb)\n",
    "cv.waitKey(0) # waits until a key is pressed\n",
    "cv.destroyAllWindows() # destroys the window showing image"
   ]
  },
  {
   "cell_type": "code",
   "execution_count": null,
   "metadata": {},
   "outputs": [],
   "source": [
    "# rgb[:, :, :]"
   ]
  },
  {
   "cell_type": "code",
   "execution_count": null,
   "metadata": {},
   "outputs": [],
   "source": [
    "# Import the necessary libraries\n",
    "import cv2\n",
    "import numpy as np\n",
    "from PIL import Image\n",
    "\n",
    "# Load the png image using cv2.imread\n",
    "img = cv2.imread(\"data/Thermal/snap_1_ (1).jpg\")\n",
    "\n",
    "# Convert the image to grayscale using cv2.cvtColor\n",
    "gray = cv2.cvtColor(img, cv2.COLOR_BGR2GRAY)\n",
    "\n",
    "# Get the pixel values of the grayscale image using numpy.array\n",
    "pixels = np.array(gray)\n",
    "\n",
    "# Map the pixel values to temperature values using a linear function\n",
    "# Assuming the min and max temperatures of the color bar are 28 and 70 degrees Celsius\n",
    "# and the corresponding pixel values are 0 and 255\n",
    "min_temp = 28\n",
    "max_temp = 70\n",
    "min_pixel = 0\n",
    "max_pixel = 255\n",
    "\n",
    "# The linear function is y = mx + b, where y is the temperature, x is the pixel value,\n",
    "# m is the slope, and b is the intercept\n",
    "m = (max_temp - min_temp) / (max_pixel - min_pixel)\n",
    "b = min_temp - m * min_pixel\n",
    "\n",
    "# Apply the linear function to each pixel value to get the temperature value\n",
    "temps = m * pixels + b\n",
    "\n"
   ]
  },
  {
   "cell_type": "code",
   "execution_count": null,
   "metadata": {},
   "outputs": [],
   "source": [
    "print(temps)"
   ]
  },
  {
   "cell_type": "code",
   "execution_count": null,
   "metadata": {},
   "outputs": [],
   "source": []
  }
 ],
 "metadata": {
  "kernelspec": {
   "display_name": "Python 3.10 (tensorflow)",
   "language": "python",
   "name": "tensorflow"
  },
  "language_info": {
   "codemirror_mode": {
    "name": "ipython",
    "version": 3
   },
   "file_extension": ".py",
   "mimetype": "text/x-python",
   "name": "python",
   "nbconvert_exporter": "python",
   "pygments_lexer": "ipython3",
   "version": "3.10.10"
  }
 },
 "nbformat": 4,
 "nbformat_minor": 2
}
